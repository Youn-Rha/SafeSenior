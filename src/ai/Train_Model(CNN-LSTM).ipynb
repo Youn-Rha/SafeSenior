{
 "cells": [
  {
   "cell_type": "code",
   "execution_count": 1,
   "id": "887435d1",
   "metadata": {},
   "outputs": [
    {
     "name": "stderr",
     "output_type": "stream",
     "text": [
      "2025-06-07 13:08:46.648071: E tensorflow/compiler/xla/stream_executor/cuda/cuda_dnn.cc:9342] Unable to register cuDNN factory: Attempting to register factory for plugin cuDNN when one has already been registered\n",
      "2025-06-07 13:08:46.648109: E tensorflow/compiler/xla/stream_executor/cuda/cuda_fft.cc:609] Unable to register cuFFT factory: Attempting to register factory for plugin cuFFT when one has already been registered\n",
      "2025-06-07 13:08:46.648120: E tensorflow/compiler/xla/stream_executor/cuda/cuda_blas.cc:1518] Unable to register cuBLAS factory: Attempting to register factory for plugin cuBLAS when one has already been registered\n",
      "2025-06-07 13:08:46.655685: I tensorflow/core/platform/cpu_feature_guard.cc:182] This TensorFlow binary is optimized to use available CPU instructions in performance-critical operations.\n",
      "To enable the following instructions: SSE4.1 SSE4.2 AVX AVX2 AVX512F FMA, in other operations, rebuild TensorFlow with the appropriate compiler flags.\n"
     ]
    },
    {
     "name": "stdout",
     "output_type": "stream",
     "text": [
      "Built with CUDA: True\n",
      "Available GPUs: [PhysicalDevice(name='/physical_device:GPU:0', device_type='GPU')]\n"
     ]
    }
   ],
   "source": [
    "import tensorflow as tf\n",
    "print(\"Built with CUDA:\", tf.test.is_built_with_cuda())\n",
    "print(\"Available GPUs:\", tf.config.list_physical_devices(\"GPU\"))"
   ]
  },
  {
   "cell_type": "code",
   "execution_count": 2,
   "id": "98b202b9",
   "metadata": {},
   "outputs": [],
   "source": [
    "# =========================\n",
    "# 1. 필수 임포트\n",
    "# =========================\n",
    "import os\n",
    "import numpy as np\n",
    "from sklearn.model_selection import train_test_split\n",
    "from sklearn.preprocessing import LabelEncoder\n",
    "import tensorflow as tf\n",
    "from tensorflow.keras.layers import (\n",
    "    TimeDistributed, Conv3D, MaxPooling3D,\n",
    "    Bidirectional, LSTM, Dense, Dropout, Flatten\n",
    ")\n",
    "from tensorflow.keras.models import Sequential\n",
    "from tensorflow.keras.optimizers import Adam\n",
    "from tensorflow.keras.callbacks import ModelCheckpoint\n"
   ]
  },
  {
   "cell_type": "code",
   "execution_count": 3,
   "id": "6132b62f",
   "metadata": {},
   "outputs": [],
   "source": [
    "extract_path = 'data/'\n",
    "checkpoint_model_path=\"./\""
   ]
  },
  {
   "cell_type": "code",
   "execution_count": 4,
   "id": "09828efd",
   "metadata": {},
   "outputs": [],
   "source": [
    "# =========================\n",
    "# 2. full_3D_model 정의 (이진 분류용)\n",
    "# =========================\n",
    "def full_3D_model(input_x, reg=0, num_feat_map=16, summary=False):\n",
    "    \"\"\"\n",
    "    input_x: 프레임 길이 (예: 60)\n",
    "    reg, num_feat_map: 현재 사용하지 않음 (추후 regularization, feature map 수 조정 가능)\n",
    "    summary: True이면 build 후 model.summary() 출력\n",
    "    \"\"\"\n",
    "    model = Sequential()\n",
    "\n",
    "    # 1st TimeDistributed 3D-Conv block\n",
    "    model.add(\n",
    "        TimeDistributed(\n",
    "            Conv3D(32, (3, 3, 3),\n",
    "                   strides=(1, 1, 1),\n",
    "                   input_shape=(10, 32, 32, 1),\n",
    "                   padding=\"same\",\n",
    "                   activation=\"relu\"\n",
    "            )\n",
    "        )\n",
    "    )\n",
    "    model.add(\n",
    "        TimeDistributed(\n",
    "            Conv3D(32, (3, 3, 3),\n",
    "                   strides=(1, 1, 1),\n",
    "                   padding=\"same\",\n",
    "                   activation=\"relu\"\n",
    "            )\n",
    "        )\n",
    "    )\n",
    "    model.add(\n",
    "        TimeDistributed(\n",
    "            MaxPooling3D(\n",
    "                pool_size=(2, 2, 2),\n",
    "                strides=(2, 2, 2),\n",
    "                padding=\"valid\"\n",
    "            )\n",
    "        )\n",
    "    )\n",
    "\n",
    "    # 2nd TimeDistributed 3D-Conv block\n",
    "    model.add(\n",
    "        TimeDistributed(\n",
    "            Conv3D(32, (3, 3, 3),\n",
    "                   strides=(1, 1, 1),\n",
    "                   padding=\"same\",\n",
    "                   activation=\"relu\"\n",
    "            )\n",
    "        )\n",
    "    )\n",
    "    model.add(\n",
    "        TimeDistributed(\n",
    "            Conv3D(32, (3, 3, 3),\n",
    "                   strides=(1, 1, 1),\n",
    "                   padding=\"same\",\n",
    "                   activation=\"relu\"\n",
    "            )\n",
    "        )\n",
    "    )\n",
    "    model.add(\n",
    "        TimeDistributed(\n",
    "            MaxPooling3D(\n",
    "                pool_size=(2, 2, 2),\n",
    "                strides=(2, 2, 2),\n",
    "                padding=\"valid\"\n",
    "            )\n",
    "        )\n",
    "    )\n",
    "\n",
    "    # 3rd TimeDistributed 3D-Conv block\n",
    "    model.add(\n",
    "        TimeDistributed(\n",
    "            Conv3D(32, (3, 3, 3),\n",
    "                   strides=(1, 1, 1),\n",
    "                   padding=\"same\",\n",
    "                   activation=\"relu\"\n",
    "            )\n",
    "        )\n",
    "    )\n",
    "    model.add(\n",
    "        TimeDistributed(\n",
    "            Conv3D(32, (3, 3, 3),\n",
    "                   strides=(1, 1, 1),\n",
    "                   padding=\"same\",\n",
    "                   activation=\"relu\"\n",
    "            )\n",
    "        )\n",
    "    )\n",
    "    model.add(\n",
    "        TimeDistributed(\n",
    "            Conv3D(32, (3, 3, 3),\n",
    "                   strides=(1, 1, 1),\n",
    "                   padding=\"same\",\n",
    "                   activation=\"relu\"\n",
    "            )\n",
    "        )\n",
    "    )\n",
    "    model.add(\n",
    "        TimeDistributed(\n",
    "            MaxPooling3D(\n",
    "                pool_size=(2, 2, 2),\n",
    "                strides=(2, 2, 2),\n",
    "                padding=\"valid\"\n",
    "            )\n",
    "        )\n",
    "    )\n",
    "\n",
    "    # TimeDistributed Flatten\n",
    "    model.add(TimeDistributed(Flatten()))\n",
    "\n",
    "    # Bidirectional LSTM\n",
    "    model.add(\n",
    "        Bidirectional(\n",
    "            LSTM(64, return_sequences=False, dropout=0.2, recurrent_dropout=0.2)\n",
    "        )\n",
    "    )\n",
    "    model.add(Dense(64, activation=\"relu\"))\n",
    "    model.add(Dropout(0.5))\n",
    "    model.add(Dense(3, activation=\"softmax\"))\n",
    "\n",
    "    if summary:\n",
    "        # 모델 빌드 후 summary 출력하려면 아래 build 호출 필요\n",
    "        model.build(input_shape=(None, input_x, 10, 32, 32, 1))\n",
    "        model.summary()\n",
    "\n",
    "    return model"
   ]
  },
  {
   "cell_type": "code",
   "execution_count": 5,
   "id": "bc5ca1c7",
   "metadata": {},
   "outputs": [],
   "source": [
    "# 3.1 “walking.npz” 로드\n",
    "walk_path = extract_path + 'walking'\n",
    "walk_data = np.load(walk_path + '.npz', allow_pickle=True)\n",
    "walk_features = walk_data['all_train_data']     # shape = (N1, 60, 10, 32, 32)\n",
    "walk_labels_str = walk_data['all_train_labels'] # ['walking', ...]\n",
    "del walk_data"
   ]
  },
  {
   "cell_type": "code",
   "execution_count": 6,
   "id": "ffa3fd84",
   "metadata": {},
   "outputs": [],
   "source": [
    "# 3.2 “fall.npz” 로드\n",
    "fall_path = extract_path + 'fall'\n",
    "fall_data = np.load(fall_path + '.npz', allow_pickle=True)\n",
    "fall_features = fall_data['all_train_data']     # shape = (N2, 60, 10, 32, 32)\n",
    "fall_labels_str = fall_data['all_train_labels'] # ['fall'/'standUP', ...]\n",
    "del fall_data"
   ]
  },
  {
   "cell_type": "code",
   "execution_count": 7,
   "id": "ac899f5e",
   "metadata": {},
   "outputs": [],
   "source": [
    "# 3.3 “standup.npz” 로드\n",
    "std_path = extract_path + 'standup'\n",
    "std_data = np.load(std_path + '.npz', allow_pickle=True)\n",
    "std_features = std_data['all_train_data']     # shape = (N2, 60, 10, 32, 32)\n",
    "std_labels_str = std_data['all_train_labels'] # ['fall'/'standUP', ...]\n",
    "del std_data"
   ]
  },
  {
   "cell_type": "code",
   "execution_count": 8,
   "id": "1c5cc9ae",
   "metadata": {},
   "outputs": [],
   "source": [
    "# 3.3 두 데이터셋 합치기\n",
    "all_data = np.concatenate([walk_features, fall_features, std_features], axis=0)\n",
    "all_labels_str = np.concatenate([walk_labels_str, fall_labels_str, std_labels_str], axis=0)"
   ]
  },
  {
   "cell_type": "code",
   "execution_count": 9,
   "id": "eededb12",
   "metadata": {},
   "outputs": [
    {
     "name": "stdout",
     "output_type": "stream",
     "text": [
      "▶ Loaded combined NPZs:\n",
      "   all_data shape      = (823, 60, 10, 32, 32)\n",
      "   all_labels_str shape= (823,)\n",
      "   Unique labels       = ['fall' 'standup' 'walking']\n"
     ]
    }
   ],
   "source": [
    "print(\"▶ Loaded combined NPZs:\")\n",
    "print(\"   all_data shape      =\", all_data.shape)\n",
    "print(\"   all_labels_str shape=\", all_labels_str.shape)\n",
    "print(\"   Unique labels       =\", np.unique(all_labels_str))"
   ]
  },
  {
   "cell_type": "code",
   "execution_count": 10,
   "id": "62cd959a",
   "metadata": {},
   "outputs": [],
   "source": [
    "# all_labels_str 에는 'fall' 또는 'standUP' 두 가지 문자열만 들어있다고 가정\n",
    "le = LabelEncoder()\n",
    "le.fit(all_labels_str)              # ex) ['fall', 'standUP'] → 0,1 매핑\n",
    "labels_int = le.transform(all_labels_str)  # (N,) 정수 배열 (0 혹은 1)"
   ]
  },
  {
   "cell_type": "code",
   "execution_count": 11,
   "id": "9106e3f5",
   "metadata": {},
   "outputs": [],
   "source": [
    "# 1단계: 전체 데이터에서 테스트(10%)를 먼저 떼어냄\n",
    "X_temp, X_test, y_temp_int, y_test_int = train_test_split(\n",
    "    all_data, labels_int,\n",
    "    test_size=0.10,      # 전체의 10%를 test로\n",
    "    random_state=1,\n",
    "    shuffle=True\n",
    ")"
   ]
  },
  {
   "cell_type": "code",
   "execution_count": 12,
   "id": "5f3e846d",
   "metadata": {},
   "outputs": [],
   "source": [
    "# 2단계: 남은 90% 데이터를 train(7/9 ≒ 77.78%)과 val(2/9 ≒ 22.22%)로 분할\n",
    "# => 결과적으로 train=70%, val=20%, test=10%가 됨\n",
    "X_train, X_val, y_train_int, y_val_int = train_test_split(\n",
    "    X_temp, y_temp_int,\n",
    "    test_size=(2/9),     # 남은 데이터의 약 22.22%를 validation으로\n",
    "    random_state=1,\n",
    "    shuffle=True\n",
    ")"
   ]
  },
  {
   "cell_type": "code",
   "execution_count": 13,
   "id": "873977c4",
   "metadata": {},
   "outputs": [
    {
     "name": "stdout",
     "output_type": "stream",
     "text": [
      "▶ 데이터 분할 비율 확인\n",
      "   Train:  575 samples (69.87%)\n",
      "   Val:    165 samples (20.05%)\n",
      "   Test:   83 samples (10.09%)\n"
     ]
    }
   ],
   "source": [
    "print(\"▶ 데이터 분할 비율 확인\")\n",
    "print(f\"   Train:  {X_train.shape[0]} samples ({X_train.shape[0]/all_data.shape[0]:.2%})\")\n",
    "print(f\"   Val:    {X_val.shape[0]} samples ({X_val.shape[0]/all_data.shape[0]:.2%})\")\n",
    "print(f\"   Test:   {X_test.shape[0]} samples ({X_test.shape[0]/all_data.shape[0]:.2%})\")"
   ]
  },
  {
   "cell_type": "code",
   "execution_count": 14,
   "id": "501a3770",
   "metadata": {
    "scrolled": true
   },
   "outputs": [
    {
     "name": "stdout",
     "output_type": "stream",
     "text": [
      "▶ Label to integer mapping:\n",
      "   fall → 0\n",
      "   standup → 1\n",
      "   walking → 2\n"
     ]
    }
   ],
   "source": [
    "print(\"▶ Label to integer mapping:\")\n",
    "for cls_name, idx in zip(le.classes_, range(len(le.classes_))):\n",
    "    print(f\"   {cls_name} → {idx}\")"
   ]
  },
  {
   "cell_type": "code",
   "execution_count": 15,
   "id": "a1d7df05",
   "metadata": {},
   "outputs": [
    {
     "name": "stdout",
     "output_type": "stream",
     "text": [
      "▶ One-hot 인코딩 완료\n",
      "   y_train shape = (575, 3), y_val shape = (165, 3), y_test shape = (83, 3)\n"
     ]
    }
   ],
   "source": [
    "# 3.6 원-핫 인코딩 (다중 클래스)\n",
    "from tensorflow.keras.utils import to_categorical\n",
    "\n",
    "num_classes = len(le.classes_)\n",
    "\n",
    "y_train = to_categorical(y_train_int, num_classes=num_classes)  # shape = (n_train, num_classes)\n",
    "y_val   = to_categorical(y_val_int,   num_classes=num_classes)  # shape = (n_val, num_classes)\n",
    "\n",
    "y_test  = to_categorical(y_test_int,  num_classes=num_classes)  # (n_test,  num_classes)\n",
    "\n",
    "print(\"▶ One-hot 인코딩 완료\")\n",
    "print(f\"   y_train shape = {y_train.shape}, y_val shape = {y_val.shape}, y_test shape = {y_test.shape}\")"
   ]
  },
  {
   "cell_type": "code",
   "execution_count": 16,
   "id": "e53016c8",
   "metadata": {},
   "outputs": [],
   "source": [
    "# 3.7 채널 차원 추가: (batch, 60, 10, 32, 32) → (batch, 60, 10, 32, 32, 1)\n",
    "X_train = X_train[..., np.newaxis]\n",
    "X_val   = X_val[..., np.newaxis]\n",
    "X_test  = X_test[...,  np.newaxis]"
   ]
  },
  {
   "cell_type": "code",
   "execution_count": 17,
   "id": "7e062946",
   "metadata": {},
   "outputs": [
    {
     "name": "stdout",
     "output_type": "stream",
     "text": [
      "▶ After preprocessing:\n",
      "   X_train shape = (575, 60, 10, 32, 32, 1) , y_train shape = (575, 3)\n",
      "   X_val   shape = (165, 60, 10, 32, 32, 1) , y_val   shape = (165, 3)\n",
      "   X_test   shape = (83, 60, 10, 32, 32, 1) , y_val   shape = (83, 3)\n"
     ]
    }
   ],
   "source": [
    "print(\"▶ After preprocessing:\")\n",
    "print(\"   X_train shape =\", X_train.shape, \", y_train shape =\", y_train.shape)\n",
    "print(\"   X_val   shape =\", X_val.shape,   \", y_val   shape =\", y_val.shape)\n",
    "print(\"   X_test   shape =\", X_test.shape,   \", y_val   shape =\", y_test.shape)"
   ]
  },
  {
   "cell_type": "code",
   "execution_count": 18,
   "id": "04cf3ebe",
   "metadata": {},
   "outputs": [
    {
     "name": "stdout",
     "output_type": "stream",
     "text": [
      "WARNING:tensorflow:Layer lstm will not use cuDNN kernels since it doesn't meet the criteria. It will use a generic GPU kernel as fallback when running on GPU.\n",
      "WARNING:tensorflow:Layer lstm will not use cuDNN kernels since it doesn't meet the criteria. It will use a generic GPU kernel as fallback when running on GPU.\n",
      "WARNING:tensorflow:Layer lstm will not use cuDNN kernels since it doesn't meet the criteria. It will use a generic GPU kernel as fallback when running on GPU.\n"
     ]
    },
    {
     "name": "stderr",
     "output_type": "stream",
     "text": [
      "2025-06-07 13:09:21.129841: I tensorflow/core/common_runtime/gpu/gpu_device.cc:1886] Created device /job:localhost/replica:0/task:0/device:GPU:0 with 46866 MB memory:  -> device: 0, name: NVIDIA RTX A6000, pci bus id: 0000:1f:00.0, compute capability: 8.6\n"
     ]
    },
    {
     "name": "stdout",
     "output_type": "stream",
     "text": [
      "Model: \"sequential\"\n",
      "_________________________________________________________________\n",
      " Layer (type)                Output Shape              Param #   \n",
      "=================================================================\n",
      " time_distributed (TimeDist  (None, 60, 10, 32, 32,    896       \n",
      " ributed)                    32)                                 \n",
      "                                                                 \n",
      " time_distributed_1 (TimeDi  (None, 60, 10, 32, 32,    27680     \n",
      " stributed)                  32)                                 \n",
      "                                                                 \n",
      " time_distributed_2 (TimeDi  (None, 60, 5, 16, 16, 3   0         \n",
      " stributed)                  2)                                  \n",
      "                                                                 \n",
      " time_distributed_3 (TimeDi  (None, 60, 5, 16, 16, 3   27680     \n",
      " stributed)                  2)                                  \n",
      "                                                                 \n",
      " time_distributed_4 (TimeDi  (None, 60, 5, 16, 16, 3   27680     \n",
      " stributed)                  2)                                  \n",
      "                                                                 \n",
      " time_distributed_5 (TimeDi  (None, 60, 2, 8, 8, 32)   0         \n",
      " stributed)                                                      \n",
      "                                                                 \n",
      " time_distributed_6 (TimeDi  (None, 60, 2, 8, 8, 32)   27680     \n",
      " stributed)                                                      \n",
      "                                                                 \n",
      " time_distributed_7 (TimeDi  (None, 60, 2, 8, 8, 32)   27680     \n",
      " stributed)                                                      \n",
      "                                                                 \n",
      " time_distributed_8 (TimeDi  (None, 60, 2, 8, 8, 32)   27680     \n",
      " stributed)                                                      \n",
      "                                                                 \n",
      " time_distributed_9 (TimeDi  (None, 60, 1, 4, 4, 32)   0         \n",
      " stributed)                                                      \n",
      "                                                                 \n",
      " time_distributed_10 (TimeD  (None, 60, 512)           0         \n",
      " istributed)                                                     \n",
      "                                                                 \n",
      " bidirectional (Bidirection  (None, 128)               295424    \n",
      " al)                                                             \n",
      "                                                                 \n",
      " dense (Dense)               (None, 64)                8256      \n",
      "                                                                 \n",
      " dropout (Dropout)           (None, 64)                0         \n",
      "                                                                 \n",
      " dense_1 (Dense)             (None, 3)                 195       \n",
      "                                                                 \n",
      "=================================================================\n",
      "Total params: 470851 (1.80 MB)\n",
      "Trainable params: 470851 (1.80 MB)\n",
      "Non-trainable params: 0 (0.00 Byte)\n",
      "_________________________________________________________________\n"
     ]
    }
   ],
   "source": [
    "# =========================\n",
    "# 4. 모델 생성, 컴파일, 학습\n",
    "# =========================\n",
    "# 4.1 모델 생성 (input_x = 60 프레임 길이, num_classes = 3)\n",
    "model = full_3D_model(input_x=60, reg=0, num_feat_map=16, summary=True)\n",
    "\n",
    "# 4.2 컴파일 (다중 클래스용 손실: categorical_crossentropy)\n",
    "from tensorflow.keras.optimizers import Adam\n",
    "model.compile(\n",
    "    loss='categorical_crossentropy',\n",
    "    optimizer=Adam(learning_rate=1e-4),\n",
    "    metrics=['accuracy']\n",
    ")\n",
    "\n",
    "# 4.3 체크포인트 콜백 설정\n",
    "os.makedirs(checkpoint_model_path, exist_ok=True)\n",
    "checkpoint = ModelCheckpoint(\n",
    "    checkpoint_model_path + '/CNN_LSTM_HAR_BEST.h5',\n",
    "    monitor='val_loss',\n",
    "    verbose=1,\n",
    "    save_best_only=True,\n",
    "    mode='min'\n",
    ")\n",
    "callbacks_list = [checkpoint]"
   ]
  },
  {
   "cell_type": "code",
   "execution_count": 19,
   "id": "340ebf94",
   "metadata": {},
   "outputs": [
    {
     "name": "stdout",
     "output_type": "stream",
     "text": [
      "Epoch 1/40\n"
     ]
    },
    {
     "name": "stderr",
     "output_type": "stream",
     "text": [
      "2025-06-07 13:09:31.017453: I tensorflow/compiler/xla/stream_executor/cuda/cuda_dnn.cc:442] Loaded cuDNN version 8800\n",
      "2025-06-07 13:09:35.816567: I tensorflow/compiler/xla/service/service.cc:168] XLA service 0x7f5cb4919c50 initialized for platform CUDA (this does not guarantee that XLA will be used). Devices:\n",
      "2025-06-07 13:09:35.816598: I tensorflow/compiler/xla/service/service.cc:176]   StreamExecutor device (0): NVIDIA RTX A6000, Compute Capability 8.6\n",
      "2025-06-07 13:09:35.824011: I tensorflow/compiler/mlir/tensorflow/utils/dump_mlir_util.cc:269] disabling MLIR crash reproducer, set env var `MLIR_CRASH_REPRODUCER_DIRECTORY` to enable.\n",
      "2025-06-07 13:09:35.912892: I ./tensorflow/compiler/jit/device_compiler.h:186] Compiled cluster using XLA!  This line is logged at most once for the lifetime of the process.\n"
     ]
    },
    {
     "name": "stdout",
     "output_type": "stream",
     "text": [
      "36/36 [==============================] - ETA: 0s - loss: 1.0920 - accuracy: 0.4035\n",
      "Epoch 1: val_loss improved from inf to 1.08226, saving model to ./CNN_LSTM_HAR_BEST.h5\n",
      "36/36 [==============================] - 56s 1s/step - loss: 1.0920 - accuracy: 0.4035 - val_loss: 1.0823 - val_accuracy: 0.3758\n",
      "Epoch 2/40\n"
     ]
    },
    {
     "name": "stderr",
     "output_type": "stream",
     "text": [
      "/abr/coss36/anaconda3/envs/tf214/lib/python3.10/site-packages/keras/src/engine/training.py:3079: UserWarning: You are saving your model as an HDF5 file via `model.save()`. This file format is considered legacy. We recommend using instead the native Keras format, e.g. `model.save('my_model.keras')`.\n",
      "  saving_api.save_model(\n"
     ]
    },
    {
     "name": "stdout",
     "output_type": "stream",
     "text": [
      "36/36 [==============================] - ETA: 0s - loss: 1.0005 - accuracy: 0.4887\n",
      "Epoch 2: val_loss improved from 1.08226 to 0.93162, saving model to ./CNN_LSTM_HAR_BEST.h5\n",
      "36/36 [==============================] - 22s 602ms/step - loss: 1.0005 - accuracy: 0.4887 - val_loss: 0.9316 - val_accuracy: 0.4545\n",
      "Epoch 3/40\n",
      "36/36 [==============================] - ETA: 0s - loss: 0.8987 - accuracy: 0.5878\n",
      "Epoch 3: val_loss improved from 0.93162 to 0.79637, saving model to ./CNN_LSTM_HAR_BEST.h5\n",
      "36/36 [==============================] - 22s 601ms/step - loss: 0.8987 - accuracy: 0.5878 - val_loss: 0.7964 - val_accuracy: 0.7212\n",
      "Epoch 4/40\n",
      "36/36 [==============================] - ETA: 0s - loss: 0.8005 - accuracy: 0.6643\n",
      "Epoch 4: val_loss improved from 0.79637 to 0.71317, saving model to ./CNN_LSTM_HAR_BEST.h5\n",
      "36/36 [==============================] - 22s 603ms/step - loss: 0.8005 - accuracy: 0.6643 - val_loss: 0.7132 - val_accuracy: 0.7394\n",
      "Epoch 5/40\n",
      "36/36 [==============================] - ETA: 0s - loss: 0.6930 - accuracy: 0.7235\n",
      "Epoch 5: val_loss improved from 0.71317 to 0.63307, saving model to ./CNN_LSTM_HAR_BEST.h5\n",
      "36/36 [==============================] - 22s 602ms/step - loss: 0.6930 - accuracy: 0.7235 - val_loss: 0.6331 - val_accuracy: 0.7697\n",
      "Epoch 6/40\n",
      "36/36 [==============================] - ETA: 0s - loss: 0.6471 - accuracy: 0.7235\n",
      "Epoch 6: val_loss improved from 0.63307 to 0.58679, saving model to ./CNN_LSTM_HAR_BEST.h5\n",
      "36/36 [==============================] - 22s 604ms/step - loss: 0.6471 - accuracy: 0.7235 - val_loss: 0.5868 - val_accuracy: 0.7515\n",
      "Epoch 7/40\n",
      "36/36 [==============================] - ETA: 0s - loss: 0.5764 - accuracy: 0.7687\n",
      "Epoch 7: val_loss improved from 0.58679 to 0.53712, saving model to ./CNN_LSTM_HAR_BEST.h5\n",
      "36/36 [==============================] - 22s 608ms/step - loss: 0.5764 - accuracy: 0.7687 - val_loss: 0.5371 - val_accuracy: 0.7515\n",
      "Epoch 8/40\n",
      "36/36 [==============================] - ETA: 0s - loss: 0.5368 - accuracy: 0.7861\n",
      "Epoch 8: val_loss improved from 0.53712 to 0.51799, saving model to ./CNN_LSTM_HAR_BEST.h5\n",
      "36/36 [==============================] - 22s 603ms/step - loss: 0.5368 - accuracy: 0.7861 - val_loss: 0.5180 - val_accuracy: 0.7818\n",
      "Epoch 9/40\n",
      "36/36 [==============================] - ETA: 0s - loss: 0.4601 - accuracy: 0.8261\n",
      "Epoch 9: val_loss improved from 0.51799 to 0.48851, saving model to ./CNN_LSTM_HAR_BEST.h5\n",
      "36/36 [==============================] - 22s 608ms/step - loss: 0.4601 - accuracy: 0.8261 - val_loss: 0.4885 - val_accuracy: 0.8182\n",
      "Epoch 10/40\n",
      "36/36 [==============================] - ETA: 0s - loss: 0.4650 - accuracy: 0.8243\n",
      "Epoch 10: val_loss improved from 0.48851 to 0.42346, saving model to ./CNN_LSTM_HAR_BEST.h5\n",
      "36/36 [==============================] - 22s 601ms/step - loss: 0.4650 - accuracy: 0.8243 - val_loss: 0.4235 - val_accuracy: 0.8303\n",
      "Epoch 11/40\n",
      "36/36 [==============================] - ETA: 0s - loss: 0.4176 - accuracy: 0.8522\n",
      "Epoch 11: val_loss improved from 0.42346 to 0.41206, saving model to ./CNN_LSTM_HAR_BEST.h5\n",
      "36/36 [==============================] - 22s 607ms/step - loss: 0.4176 - accuracy: 0.8522 - val_loss: 0.4121 - val_accuracy: 0.8485\n",
      "Epoch 12/40\n",
      "36/36 [==============================] - ETA: 0s - loss: 0.3855 - accuracy: 0.8626\n",
      "Epoch 12: val_loss improved from 0.41206 to 0.33774, saving model to ./CNN_LSTM_HAR_BEST.h5\n",
      "36/36 [==============================] - 22s 600ms/step - loss: 0.3855 - accuracy: 0.8626 - val_loss: 0.3377 - val_accuracy: 0.8667\n",
      "Epoch 13/40\n",
      "36/36 [==============================] - ETA: 0s - loss: 0.3410 - accuracy: 0.8713\n",
      "Epoch 13: val_loss did not improve from 0.33774\n",
      "36/36 [==============================] - 22s 604ms/step - loss: 0.3410 - accuracy: 0.8713 - val_loss: 0.3535 - val_accuracy: 0.8364\n",
      "Epoch 14/40\n",
      "36/36 [==============================] - ETA: 0s - loss: 0.3262 - accuracy: 0.8835\n",
      "Epoch 14: val_loss did not improve from 0.33774\n",
      "36/36 [==============================] - 22s 602ms/step - loss: 0.3262 - accuracy: 0.8835 - val_loss: 0.3551 - val_accuracy: 0.8303\n",
      "Epoch 15/40\n",
      "36/36 [==============================] - ETA: 0s - loss: 0.3013 - accuracy: 0.8870\n",
      "Epoch 15: val_loss improved from 0.33774 to 0.32233, saving model to ./CNN_LSTM_HAR_BEST.h5\n",
      "36/36 [==============================] - 22s 605ms/step - loss: 0.3013 - accuracy: 0.8870 - val_loss: 0.3223 - val_accuracy: 0.8848\n",
      "Epoch 16/40\n",
      "36/36 [==============================] - ETA: 0s - loss: 0.2624 - accuracy: 0.9200\n",
      "Epoch 16: val_loss improved from 0.32233 to 0.30956, saving model to ./CNN_LSTM_HAR_BEST.h5\n",
      "36/36 [==============================] - 22s 603ms/step - loss: 0.2624 - accuracy: 0.9200 - val_loss: 0.3096 - val_accuracy: 0.8909\n",
      "Epoch 17/40\n",
      "36/36 [==============================] - ETA: 0s - loss: 0.2745 - accuracy: 0.9113\n",
      "Epoch 17: val_loss improved from 0.30956 to 0.27198, saving model to ./CNN_LSTM_HAR_BEST.h5\n",
      "36/36 [==============================] - 22s 603ms/step - loss: 0.2745 - accuracy: 0.9113 - val_loss: 0.2720 - val_accuracy: 0.9030\n",
      "Epoch 18/40\n",
      "36/36 [==============================] - ETA: 0s - loss: 0.2211 - accuracy: 0.9357\n",
      "Epoch 18: val_loss improved from 0.27198 to 0.24222, saving model to ./CNN_LSTM_HAR_BEST.h5\n",
      "36/36 [==============================] - 22s 608ms/step - loss: 0.2211 - accuracy: 0.9357 - val_loss: 0.2422 - val_accuracy: 0.9333\n",
      "Epoch 19/40\n",
      "36/36 [==============================] - ETA: 0s - loss: 0.2291 - accuracy: 0.9148\n",
      "Epoch 19: val_loss did not improve from 0.24222\n",
      "36/36 [==============================] - 22s 600ms/step - loss: 0.2291 - accuracy: 0.9148 - val_loss: 0.2739 - val_accuracy: 0.8909\n",
      "Epoch 20/40\n",
      "36/36 [==============================] - ETA: 0s - loss: 0.2072 - accuracy: 0.9374\n",
      "Epoch 20: val_loss did not improve from 0.24222\n",
      "36/36 [==============================] - 22s 602ms/step - loss: 0.2072 - accuracy: 0.9374 - val_loss: 0.2653 - val_accuracy: 0.8970\n",
      "Epoch 21/40\n",
      "36/36 [==============================] - ETA: 0s - loss: 0.2028 - accuracy: 0.9339\n",
      "Epoch 21: val_loss did not improve from 0.24222\n",
      "36/36 [==============================] - 22s 609ms/step - loss: 0.2028 - accuracy: 0.9339 - val_loss: 0.2741 - val_accuracy: 0.8909\n",
      "Epoch 22/40\n",
      "36/36 [==============================] - ETA: 0s - loss: 0.1905 - accuracy: 0.9426\n",
      "Epoch 22: val_loss did not improve from 0.24222\n",
      "36/36 [==============================] - 22s 602ms/step - loss: 0.1905 - accuracy: 0.9426 - val_loss: 0.2548 - val_accuracy: 0.9152\n",
      "Epoch 23/40\n",
      "36/36 [==============================] - ETA: 0s - loss: 0.1608 - accuracy: 0.9443\n",
      "Epoch 23: val_loss improved from 0.24222 to 0.17945, saving model to ./CNN_LSTM_HAR_BEST.h5\n",
      "36/36 [==============================] - 22s 605ms/step - loss: 0.1608 - accuracy: 0.9443 - val_loss: 0.1795 - val_accuracy: 0.9394\n",
      "Epoch 24/40\n",
      "36/36 [==============================] - ETA: 0s - loss: 0.1491 - accuracy: 0.9600\n",
      "Epoch 24: val_loss improved from 0.17945 to 0.17628, saving model to ./CNN_LSTM_HAR_BEST.h5\n",
      "36/36 [==============================] - 22s 606ms/step - loss: 0.1491 - accuracy: 0.9600 - val_loss: 0.1763 - val_accuracy: 0.9455\n",
      "Epoch 25/40\n",
      "36/36 [==============================] - ETA: 0s - loss: 0.1330 - accuracy: 0.9687\n",
      "Epoch 25: val_loss did not improve from 0.17628\n",
      "36/36 [==============================] - 22s 601ms/step - loss: 0.1330 - accuracy: 0.9687 - val_loss: 0.1922 - val_accuracy: 0.9212\n",
      "Epoch 26/40\n",
      "36/36 [==============================] - ETA: 0s - loss: 0.1367 - accuracy: 0.9583\n",
      "Epoch 26: val_loss did not improve from 0.17628\n",
      "36/36 [==============================] - 22s 598ms/step - loss: 0.1367 - accuracy: 0.9583 - val_loss: 0.1815 - val_accuracy: 0.9333\n",
      "Epoch 27/40\n",
      "36/36 [==============================] - ETA: 0s - loss: 0.1361 - accuracy: 0.9617\n",
      "Epoch 27: val_loss did not improve from 0.17628\n",
      "36/36 [==============================] - 22s 605ms/step - loss: 0.1361 - accuracy: 0.9617 - val_loss: 0.1804 - val_accuracy: 0.9455\n",
      "Epoch 28/40\n",
      "36/36 [==============================] - ETA: 0s - loss: 0.1079 - accuracy: 0.9757\n",
      "Epoch 28: val_loss did not improve from 0.17628\n",
      "36/36 [==============================] - 22s 600ms/step - loss: 0.1079 - accuracy: 0.9757 - val_loss: 0.1876 - val_accuracy: 0.9333\n",
      "Epoch 29/40\n"
     ]
    },
    {
     "name": "stdout",
     "output_type": "stream",
     "text": [
      "36/36 [==============================] - ETA: 0s - loss: 0.1006 - accuracy: 0.9670\n",
      "Epoch 29: val_loss improved from 0.17628 to 0.16973, saving model to ./CNN_LSTM_HAR_BEST.h5\n",
      "36/36 [==============================] - 22s 604ms/step - loss: 0.1006 - accuracy: 0.9670 - val_loss: 0.1697 - val_accuracy: 0.9212\n",
      "Epoch 30/40\n",
      "36/36 [==============================] - ETA: 0s - loss: 0.1044 - accuracy: 0.9670\n",
      "Epoch 30: val_loss improved from 0.16973 to 0.16776, saving model to ./CNN_LSTM_HAR_BEST.h5\n",
      "36/36 [==============================] - 22s 601ms/step - loss: 0.1044 - accuracy: 0.9670 - val_loss: 0.1678 - val_accuracy: 0.9273\n",
      "Epoch 31/40\n",
      "36/36 [==============================] - ETA: 0s - loss: 0.1102 - accuracy: 0.9757\n",
      "Epoch 31: val_loss did not improve from 0.16776\n",
      "36/36 [==============================] - 22s 602ms/step - loss: 0.1102 - accuracy: 0.9757 - val_loss: 0.1847 - val_accuracy: 0.9333\n",
      "Epoch 32/40\n",
      "36/36 [==============================] - ETA: 0s - loss: 0.1204 - accuracy: 0.9635\n",
      "Epoch 32: val_loss did not improve from 0.16776\n",
      "36/36 [==============================] - 22s 601ms/step - loss: 0.1204 - accuracy: 0.9635 - val_loss: 0.2018 - val_accuracy: 0.9333\n",
      "Epoch 33/40\n",
      "36/36 [==============================] - ETA: 0s - loss: 0.0792 - accuracy: 0.9878\n",
      "Epoch 33: val_loss improved from 0.16776 to 0.15835, saving model to ./CNN_LSTM_HAR_BEST.h5\n",
      "36/36 [==============================] - 22s 602ms/step - loss: 0.0792 - accuracy: 0.9878 - val_loss: 0.1584 - val_accuracy: 0.9515\n",
      "Epoch 34/40\n",
      "36/36 [==============================] - ETA: 0s - loss: 0.0658 - accuracy: 0.9878\n",
      "Epoch 34: val_loss did not improve from 0.15835\n",
      "36/36 [==============================] - 22s 600ms/step - loss: 0.0658 - accuracy: 0.9878 - val_loss: 0.1789 - val_accuracy: 0.9576\n",
      "Epoch 35/40\n",
      "36/36 [==============================] - ETA: 0s - loss: 0.0685 - accuracy: 0.9826\n",
      "Epoch 35: val_loss did not improve from 0.15835\n",
      "36/36 [==============================] - 22s 604ms/step - loss: 0.0685 - accuracy: 0.9826 - val_loss: 0.1737 - val_accuracy: 0.9515\n",
      "Epoch 36/40\n",
      "36/36 [==============================] - ETA: 0s - loss: 0.0646 - accuracy: 0.9861\n",
      "Epoch 36: val_loss improved from 0.15835 to 0.14441, saving model to ./CNN_LSTM_HAR_BEST.h5\n",
      "36/36 [==============================] - 22s 602ms/step - loss: 0.0646 - accuracy: 0.9861 - val_loss: 0.1444 - val_accuracy: 0.9515\n",
      "Epoch 37/40\n",
      "36/36 [==============================] - ETA: 0s - loss: 0.0740 - accuracy: 0.9809\n",
      "Epoch 37: val_loss did not improve from 0.14441\n",
      "36/36 [==============================] - 22s 599ms/step - loss: 0.0740 - accuracy: 0.9809 - val_loss: 0.1553 - val_accuracy: 0.9576\n",
      "Epoch 38/40\n",
      "36/36 [==============================] - ETA: 0s - loss: 0.0719 - accuracy: 0.9791\n",
      "Epoch 38: val_loss improved from 0.14441 to 0.14065, saving model to ./CNN_LSTM_HAR_BEST.h5\n",
      "36/36 [==============================] - 22s 603ms/step - loss: 0.0719 - accuracy: 0.9791 - val_loss: 0.1407 - val_accuracy: 0.9515\n",
      "Epoch 39/40\n",
      "36/36 [==============================] - ETA: 0s - loss: 0.0734 - accuracy: 0.9809\n",
      "Epoch 39: val_loss improved from 0.14065 to 0.13785, saving model to ./CNN_LSTM_HAR_BEST.h5\n",
      "36/36 [==============================] - 22s 604ms/step - loss: 0.0734 - accuracy: 0.9809 - val_loss: 0.1378 - val_accuracy: 0.9515\n",
      "Epoch 40/40\n",
      "36/36 [==============================] - ETA: 0s - loss: 0.0723 - accuracy: 0.9826\n",
      "Epoch 40: val_loss did not improve from 0.13785\n",
      "36/36 [==============================] - 22s 603ms/step - loss: 0.0723 - accuracy: 0.9826 - val_loss: 0.1731 - val_accuracy: 0.9515\n"
     ]
    }
   ],
   "source": [
    "# 4.4 학습 실행\n",
    "learning_hist = model.fit(\n",
    "    X_train, y_train,\n",
    "    batch_size=16,     # 필요시 조절\n",
    "    epochs=40,\n",
    "    verbose=1,\n",
    "    shuffle=True,\n",
    "    validation_data=(X_val, y_val),\n",
    "    callbacks=callbacks_list\n",
    ")"
   ]
  },
  {
   "cell_type": "code",
   "execution_count": 20,
   "id": "20a81f13",
   "metadata": {},
   "outputs": [],
   "source": [
    "import matplotlib.pyplot as plt"
   ]
  },
  {
   "cell_type": "code",
   "execution_count": 21,
   "id": "affc3240",
   "metadata": {},
   "outputs": [],
   "source": [
    "history = learning_hist.history"
   ]
  },
  {
   "cell_type": "code",
   "execution_count": 22,
   "id": "2b6d7ce4",
   "metadata": {},
   "outputs": [
    {
     "data": {
      "image/png": "[encoded data removed]",
      "text/plain": [
       "<Figure size 640x480 with 1 Axes>"
      ]
     },
     "metadata": {},
     "output_type": "display_data"
    }
   ],
   "source": [
    "plt.figure()\n",
    "plt.plot(history['loss'], label='train_loss')\n",
    "plt.plot(history['val_loss'], label='val_loss')\n",
    "plt.title('Model Loss')\n",
    "plt.xlabel('Epoch')\n",
    "plt.ylabel('Loss')\n",
    "plt.legend()\n",
    "plt.show()"
   ]
  },
  {
   "cell_type": "code",
   "execution_count": 23,
   "id": "b76e93b9",
   "metadata": {},
   "outputs": [
    {
     "data": {
      "image/png": "[encoded data removed]",
      "text/plain": [
       "<Figure size 640x480 with 1 Axes>"
      ]
     },
     "metadata": {},
     "output_type": "display_data"
    }
   ],
   "source": [
    "# 2) Accuracy 시각화\n",
    "plt.figure()\n",
    "plt.plot(history['accuracy'], label='train_acc')\n",
    "plt.plot(history['val_accuracy'], label='val_acc')\n",
    "plt.title('Model Accuracy')\n",
    "plt.xlabel('Epoch')\n",
    "plt.ylabel('Accuracy')\n",
    "plt.legend()\n",
    "plt.show()"
   ]
  },
  {
   "cell_type": "code",
   "execution_count": 24,
   "id": "84a08085",
   "metadata": {},
   "outputs": [
    {
     "name": "stdout",
     "output_type": "stream",
     "text": [
      "21/21 [==============================] - 3s 48ms/step - loss: 0.1731 - accuracy: 0.9515\n",
      "▶ 검증 데이터 평가 결과  • 손실: 0.1731  • 정확도: 0.9515\n"
     ]
    }
   ],
   "source": [
    "# 4-3) 검증 데이터에 대한 평가\n",
    "results_val = model.evaluate(X_val, y_val, batch_size=8, verbose=1)\n",
    "val_loss, val_acc = results_val[0], results_val[1]\n",
    "print(f\"▶ 검증 데이터 평가 결과  • 손실: {val_loss:.4f}  • 정확도: {val_acc:.4f}\")"
   ]
  },
  {
   "cell_type": "code",
   "execution_count": 25,
   "id": "77d51ef5",
   "metadata": {},
   "outputs": [
    {
     "name": "stdout",
     "output_type": "stream",
     "text": [
      "11/11 [==============================] - 2s 141ms/step - loss: 0.1237 - accuracy: 0.9518\n",
      "▶ 테스트 데이터 평가 결과  • 손실: 0.1237  • 정확도: 0.9518\n"
     ]
    }
   ],
   "source": [
    "# ────────────────────────────────────────────────────────────────────────────────\n",
    "# 추가) 4-4) 테스트 데이터에 대한 평가\n",
    "results_test = model.evaluate(X_test, y_test, batch_size=8, verbose=1)\n",
    "test_loss, test_acc = results_test[0], results_test[1]\n",
    "print(f\"▶ 테스트 데이터 평가 결과  • 손실: {test_loss:.4f}  • 정확도: {test_acc:.4f}\")"
   ]
  },
  {
   "cell_type": "code",
   "execution_count": 26,
   "id": "26f40513",
   "metadata": {},
   "outputs": [],
   "source": [
    "from sklearn.metrics import confusion_matrix"
   ]
  },
  {
   "cell_type": "code",
   "execution_count": 27,
   "id": "1f027d55",
   "metadata": {},
   "outputs": [
    {
     "name": "stdout",
     "output_type": "stream",
     "text": [
      "3/3 [==============================] - 16s 3s/step\n"
     ]
    }
   ],
   "source": [
    "# 1) 모델에 대한 예측 수행\n",
    "y_pred_probs = model.predict(X_test)\n",
    "y_pred_int = np.argmax(y_pred_probs, axis=1)\n",
    "y_true_int = y_test_int  # 정수 라벨 (원-핫 인코딩 전의 y_test_int)"
   ]
  },
  {
   "cell_type": "code",
   "execution_count": 28,
   "id": "eac40772",
   "metadata": {},
   "outputs": [
    {
     "name": "stdout",
     "output_type": "stream",
     "text": [
      "Confusion Matrix:\n",
      "[[24  1  0]\n",
      " [ 0 24  1]\n",
      " [ 1  1 31]]\n"
     ]
    }
   ],
   "source": [
    "# 2) 혼동 행렬 계산 및 출력\n",
    "cm = confusion_matrix(y_true_int, y_pred_int)\n",
    "print(\"Confusion Matrix:\")\n",
    "print(cm)"
   ]
  },
  {
   "cell_type": "code",
   "execution_count": 29,
   "id": "0e0e809c",
   "metadata": {},
   "outputs": [],
   "source": [
    "# 3) 클래스별 정확도 계산\n",
    "#    - class_counts: 각 클래스의 실제 샘플 수 (혼동 행렬의 각 행 합)\n",
    "#    - correct_counts: 대각선 값 (맞게 예측된 샘플 수)\n",
    "class_counts   = cm.sum(axis=1)\n",
    "correct_counts = np.diag(cm)\n",
    "class_accuracy = correct_counts / class_counts"
   ]
  },
  {
   "cell_type": "code",
   "execution_count": 30,
   "id": "f05fcebd",
   "metadata": {},
   "outputs": [
    {
     "data": {
      "image/png": "[encoded data removed]",
      "text/plain": [
       "<Figure size 800x600 with 1 Axes>"
      ]
     },
     "metadata": {},
     "output_type": "display_data"
    }
   ],
   "source": [
    "# 4) 클래스 이름 설정\n",
    "if 'le' in globals():\n",
    "    class_names = le.classes_\n",
    "else:\n",
    "    class_names = [f\"Class {i}\" for i in range(len(class_accuracy))]\n",
    "\n",
    "# 5) 막대 그래프 그리기 (너비 조절, 퍼센트 표시)\n",
    "plt.figure(figsize=(8, 6))\n",
    "bar_width = 0.5  # 기본 0.8보다 좁게 설정\n",
    "bars = plt.bar(class_names, class_accuracy, width=bar_width)\n",
    "\n",
    "# 축 및 타이틀\n",
    "plt.xlabel(\"Classes\")\n",
    "plt.ylabel(\"Accuracy\")\n",
    "plt.title(\"Class-wise Accuracy on Test Set\")\n",
    "plt.ylim(0, 1.1)\n",
    "plt.grid(axis='y', linestyle='--', alpha=0.5)\n",
    "\n",
    "# 6) 각 막대 위에 퍼센트 레이블 추가\n",
    "for bar, acc in zip(bars, class_accuracy):\n",
    "    height = bar.get_height()\n",
    "    plt.text(\n",
    "        bar.get_x() + bar.get_width() / 2,  # x 위치: 막대 중앙\n",
    "        height + 0.02,                       # y 위치: 막대 꼭대기 위\n",
    "        f\"{acc * 100:.1f}%\",                 # 레이블 텍스트\n",
    "        ha='center', va='bottom'\n",
    "    )\n",
    "\n",
    "plt.show()"
   ]
  }
 ],
 "metadata": {
  "kernelspec": {
   "display_name": "Python (tf214)",
   "language": "python",
   "name": "tf214"
  },
  "language_info": {
   "codemirror_mode": {
    "name": "ipython",
    "version": 3
   },
   "file_extension": ".py",
   "mimetype": "text/x-python",
   "name": "python",
   "nbconvert_exporter": "python",
   "pygments_lexer": "ipython3",
   "version": "3.10.18"
  }
 },
 "nbformat": 4,
 "nbformat_minor": 5
}
